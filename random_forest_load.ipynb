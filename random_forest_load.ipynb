{
 "cells": [
  {
   "cell_type": "code",
   "execution_count": 1,
   "metadata": {
    "id": "BwzJJeoH6hVT"
   },
   "outputs": [],
   "source": [
    "# Hyperparameters\n",
    "num_estimators = 100"
   ]
  },
  {
   "cell_type": "code",
   "execution_count": 2,
   "metadata": {
    "id": "0L_iZxR4JEqb"
   },
   "outputs": [],
   "source": [
    "# Cisco Dacanay\n",
    "# Zach Greenhill\n",
    "\n",
    "import torch\n",
    "import torch.nn as nn\n",
    "import torch.optim as optim\n",
    "from torch.utils.data import DataLoader, TensorDataset, random_split\n",
    "from sklearn.model_selection import train_test_split\n",
    "import torchvision.models as models\n",
    "import kagglehub\n",
    "import os\n",
    "import pandas as pd\n",
    "import numpy as np\n",
    "from datetime import timedelta\n",
    "import math\n",
    "import matplotlib.pyplot as plt\n",
    "from sklearn.ensemble import RandomForestRegressor\n",
    "from sklearn import tree\n",
    "from sklearn.metrics import mean_squared_error, root_mean_squared_error, r2_score, mean_absolute_error, mean_absolute_percentage_error\n",
    "import joblib"
   ]
  },
  {
   "cell_type": "code",
   "execution_count": 3,
   "metadata": {
    "id": "XyrHGjxzkM6l"
   },
   "outputs": [],
   "source": [
    "# Function to seperate\n",
    "def separate_dataset(dataset):\n",
    "    # Initialize lists to hold data and labels\n",
    "    data_list = []\n",
    "    label_list = []\n",
    "\n",
    "    # Iterate through each tuple in the dataset\n",
    "    for data_tensor, label_tensor in dataset:\n",
    "        # Convert tensors to NumPy arrays and append to the respective lists\n",
    "        data_list.append(data_tensor.cpu().numpy())  # Move to CPU if needed\n",
    "        label_list.append(label_tensor.cpu().numpy())\n",
    "\n",
    "    # Convert lists to NumPy arrays\n",
    "    data_array = np.array(data_list)\n",
    "    label_array = np.array(label_list)\n",
    "\n",
    "    return data_array, label_array"
   ]
  },
  {
   "cell_type": "code",
   "execution_count": 4,
   "metadata": {
    "colab": {
     "base_uri": "https://localhost:8080/"
    },
    "id": "Ph74tE0xkM6m",
    "outputId": "26d02810-95c3-48b4-a42a-434ed420ad1a"
   },
   "outputs": [
    {
     "name": "stderr",
     "output_type": "stream",
     "text": [
      "C:\\Users\\darth\\AppData\\Local\\Temp\\ipykernel_29964\\1812764246.py:1: FutureWarning: You are using `torch.load` with `weights_only=False` (the current default value), which uses the default pickle module implicitly. It is possible to construct malicious pickle data which will execute arbitrary code during unpickling (See https://github.com/pytorch/pytorch/blob/main/SECURITY.md#untrusted-models for more details). In a future release, the default value for `weights_only` will be flipped to `True`. This limits the functions that could be executed during unpickling. Arbitrary objects will no longer be allowed to be loaded via this mode unless they are explicitly allowlisted by the user via `torch.serialization.add_safe_globals`. We recommend you start setting `weights_only=True` for any use case where you don't have full control of the loaded file. Please open an issue on GitHub for any issues related to this experimental feature.\n",
      "  test_set = torch.load(\"./Datasets/test_set.pt\")\n"
     ]
    }
   ],
   "source": [
    "test_set = torch.load(\"./Datasets/test_set.pt\")"
   ]
  },
  {
   "cell_type": "code",
   "execution_count": 5,
   "metadata": {
    "id": "WZ_FvRYdkM6m"
   },
   "outputs": [],
   "source": [
    "# Extract data\n",
    "test_features, test_labels = separate_dataset(test_set)\n"
   ]
  },
  {
   "cell_type": "code",
   "execution_count": 6,
   "metadata": {
    "id": "KsQibMfIkM6m"
   },
   "outputs": [
    {
     "name": "stderr",
     "output_type": "stream",
     "text": [
      "c:\\Users\\darth\\AppData\\Local\\Programs\\Python\\Python312\\Lib\\site-packages\\sklearn\\base.py:376: InconsistentVersionWarning: Trying to unpickle estimator DecisionTreeRegressor from version 1.5.2 when using version 1.5.1. This might lead to breaking code or invalid results. Use at your own risk. For more info please refer to:\n",
      "https://scikit-learn.org/stable/model_persistence.html#security-maintainability-limitations\n",
      "  warnings.warn(\n",
      "c:\\Users\\darth\\AppData\\Local\\Programs\\Python\\Python312\\Lib\\site-packages\\sklearn\\base.py:376: InconsistentVersionWarning: Trying to unpickle estimator RandomForestRegressor from version 1.5.2 when using version 1.5.1. This might lead to breaking code or invalid results. Use at your own risk. For more info please refer to:\n",
      "https://scikit-learn.org/stable/model_persistence.html#security-maintainability-limitations\n",
      "  warnings.warn(\n"
     ]
    }
   ],
   "source": [
    "randforest = joblib.load(\"./Models/random_forest.joblib\")\n",
    "\n",
    "test_predictions = randforest.predict(test_features)"
   ]
  },
  {
   "cell_type": "code",
   "execution_count": 7,
   "metadata": {
    "colab": {
     "base_uri": "https://localhost:8080/"
    },
    "id": "SLduaZeEkM6m",
    "outputId": "7f08f7dc-ea84-4a6b-9ee4-d6ff6dfe7c4d"
   },
   "outputs": [
    {
     "name": "stdout",
     "output_type": "stream",
     "text": [
      "Test Mean Squared Error: 31.9539\n",
      "Test Root MSE: 5.6528\n",
      "Test Mean Absolute Error: 3.2857\n",
      "Test R2 Score: 0.9871\n",
      "Test Mean Absolute Percentage Error: 0.0499\n"
     ]
    }
   ],
   "source": [
    "# Calculate test metrics\n",
    "test_mse = mean_squared_error(test_labels, test_predictions)\n",
    "test_rmse = root_mean_squared_error(test_labels, test_predictions)\n",
    "test_mae = mean_absolute_error(test_labels, test_predictions)\n",
    "test_r2 = r2_score(test_labels, test_predictions)\n",
    "test_mape = mean_absolute_percentage_error(test_labels, test_predictions)\n",
    "\n",
    "print(f\"Test Mean Squared Error: {test_mse:.4f}\")\n",
    "print(f\"Test Root MSE: {test_rmse:.4f}\")\n",
    "print(f\"Test Mean Absolute Error: {test_mae:.4f}\")\n",
    "print(f\"Test R2 Score: {test_r2:.4f}\")\n",
    "print(f\"Test Mean Absolute Percentage Error: {test_mape:.4f}\")\n"
   ]
  }
 ],
 "metadata": {
  "colab": {
   "provenance": []
  },
  "kernelspec": {
   "display_name": "Python 3",
   "name": "python3"
  },
  "language_info": {
   "codemirror_mode": {
    "name": "ipython",
    "version": 3
   },
   "file_extension": ".py",
   "mimetype": "text/x-python",
   "name": "python",
   "nbconvert_exporter": "python",
   "pygments_lexer": "ipython3",
   "version": "3.12.1"
  }
 },
 "nbformat": 4,
 "nbformat_minor": 0
}
