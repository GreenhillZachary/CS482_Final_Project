{
 "cells": [
  {
   "cell_type": "code",
   "execution_count": 2,
   "metadata": {},
   "outputs": [],
   "source": [
    "import torch\n",
    "import torch.nn as nn\n",
    "import torch.optim as optim\n",
    "from torch.utils.data import DataLoader, TensorDataset, random_split\n",
    "import torch.nn.functional as F\n",
    "from sklearn.model_selection import train_test_split\n",
    "import torchvision.models as models\n",
    "import kagglehub\n",
    "import os\n",
    "import pandas as pd\n",
    "import numpy as np\n",
    "from datetime import timedelta\n",
    "import math\n",
    "import matplotlib.pyplot as plt\n",
    "import xgboost as xgb\n",
    "from sklearn.svm import SVR\n",
    "from sklearn.metrics import mean_squared_error, root_mean_squared_error, r2_score, mean_absolute_error, mean_absolute_percentage_error\n",
    "import pickle"
   ]
  },
  {
   "cell_type": "code",
   "execution_count": 3,
   "metadata": {},
   "outputs": [],
   "source": [
    "# Function to seperate \n",
    "def separate_dataset(dataset):\n",
    "    # Initialize lists to hold data and labels\n",
    "    data_list = []\n",
    "    label_list = []\n",
    "\n",
    "    # Iterate through each tuple in the dataset\n",
    "    for data_tensor, label_tensor in dataset:\n",
    "        # Convert tensors to NumPy arrays and append to the respective lists\n",
    "        data_list.append(data_tensor.cpu().numpy())  # Move to CPU if needed\n",
    "        label_list.append(label_tensor.cpu().numpy())\n",
    "\n",
    "    # Convert lists to NumPy arrays\n",
    "    data_array = np.array(data_list)\n",
    "    label_array = np.array(label_list)\n",
    "\n",
    "    return data_array, label_array\n",
    "\n",
    "\n",
    "def preprocess_tensor(tensor):\n",
    "    return torch.nan_to_num(tensor, nan=0.0)  # Replace NaN with 0.0"
   ]
  },
  {
   "cell_type": "code",
   "execution_count": 4,
   "metadata": {},
   "outputs": [],
   "source": [
    "# Load datasets\n",
    "test_set = torch.load(\"./Datasets/test_set.pt\", weights_only=False)\n",
    "\n",
    "# Preprocess train and validation datasets\n",
    "test_set = [(preprocess_tensor(x), y) for x, y in test_set]\n",
    "\n",
    "# Extract data\n",
    "X, y = separate_dataset(test_set)"
   ]
  },
  {
   "cell_type": "code",
   "execution_count": 5,
   "metadata": {},
   "outputs": [],
   "source": [
    "# Load the SVR model\n",
    "with open('./Models/svr.pkl', 'rb') as f:\n",
    "    loaded_model = pickle.load(f)"
   ]
  },
  {
   "cell_type": "code",
   "execution_count": 6,
   "metadata": {},
   "outputs": [],
   "source": [
    "#Make predictions on the test set\n",
    "test_predictions = loaded_model.predict(X)"
   ]
  },
  {
   "cell_type": "code",
   "execution_count": 7,
   "metadata": {},
   "outputs": [
    {
     "name": "stdout",
     "output_type": "stream",
     "text": [
      "Mean Squared Error: 62.6183\n",
      "Root MSE: 7.9132\n",
      "Mean Absolute Error: 4.1178\n",
      "R² Score: 0.9747\n",
      "Mean Absolute Percentage Error: 0.0749\n"
     ]
    }
   ],
   "source": [
    "# Mean Squared Error (MSE)\n",
    "mse = mean_squared_error(y, test_predictions)\n",
    "rmse = root_mean_squared_error(y, test_predictions)\n",
    "mae = mean_absolute_error(y, test_predictions)\n",
    "r2 = r2_score(y, test_predictions)\n",
    "mape = mean_absolute_percentage_error(y, test_predictions)\n",
    "\n",
    "print(f\"Mean Squared Error: {mse:.4f}\")\n",
    "print(f\"Root MSE: {rmse:.4f}\")\n",
    "print(f\"Mean Absolute Error: {mae:.4f}\")\n",
    "print(f\"R² Score: {r2:.4f}\")\n",
    "print(f\"Mean Absolute Percentage Error: {mape:.4f}\")"
   ]
  }
 ],
 "metadata": {
  "kernelspec": {
   "display_name": "Python 3",
   "language": "python",
   "name": "python3"
  },
  "language_info": {
   "codemirror_mode": {
    "name": "ipython",
    "version": 3
   },
   "file_extension": ".py",
   "mimetype": "text/x-python",
   "name": "python",
   "nbconvert_exporter": "python",
   "pygments_lexer": "ipython3",
   "version": "3.12.1"
  }
 },
 "nbformat": 4,
 "nbformat_minor": 2
}
