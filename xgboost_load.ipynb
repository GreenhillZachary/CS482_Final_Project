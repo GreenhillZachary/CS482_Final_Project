{
 "cells": [
  {
   "cell_type": "markdown",
   "metadata": {},
   "source": [
    "# Load the XGBoost model\n",
    "Get test results from the XGBoost model\n",
    "This operations are read only"
   ]
  },
  {
   "cell_type": "code",
   "execution_count": 2,
   "metadata": {
    "colab": {
     "base_uri": "https://localhost:8080/"
    },
    "id": "0L_iZxR4JEqb",
    "outputId": "b29db25c-f039-42e0-c20b-371af7c47e33"
   },
   "outputs": [],
   "source": [
    "import torch\n",
    "import torch.nn as nn\n",
    "import torch.optim as optim\n",
    "from torch.utils.data import DataLoader, TensorDataset, random_split\n",
    "from sklearn.model_selection import train_test_split\n",
    "import torchvision.models as models\n",
    "import kagglehub\n",
    "import os\n",
    "import pandas as pd\n",
    "import numpy as np\n",
    "from datetime import timedelta\n",
    "import math\n",
    "import matplotlib.pyplot as plt\n",
    "import xgboost as xgb\n",
    "from sklearn.metrics import mean_squared_error, root_mean_squared_error, r2_score, mean_absolute_error"
   ]
  },
  {
   "cell_type": "code",
   "execution_count": 3,
   "metadata": {},
   "outputs": [],
   "source": [
    "# Function to seperate \n",
    "def separate_dataset(dataset):\n",
    "    # Initialize lists to hold data and labels\n",
    "    data_list = []\n",
    "    label_list = []\n",
    "\n",
    "    # Iterate through each tuple in the dataset\n",
    "    for data_tensor, label_tensor in dataset:\n",
    "        # Convert tensors to NumPy arrays and append to the respective lists\n",
    "        data_list.append(data_tensor.cpu().numpy())  # Move to CPU if needed\n",
    "        label_list.append(label_tensor.cpu().numpy())\n",
    "\n",
    "    # Convert lists to NumPy arrays\n",
    "    data_array = np.array(data_list)\n",
    "    label_array = np.array(label_list)\n",
    "\n",
    "    return data_array, label_array"
   ]
  },
  {
   "cell_type": "code",
   "execution_count": 4,
   "metadata": {},
   "outputs": [
    {
     "name": "stdout",
     "output_type": "stream",
     "text": [
      "Mean Squared Error: 38.2049\n",
      "Root MSE: 6.1810\n",
      "Mean Absolute Error: 3.3770\n",
      "R² Score: 0.9846\n"
     ]
    }
   ],
   "source": [
    "# Load the test_set file \n",
    "test_set = torch.load(\"./Datasets/test_set.pt\", weights_only=False)\n",
    "\n",
    "# Get the test features and labels\n",
    "test_features, test_labels = separate_dataset(test_set)\n",
    "\n",
    "# Load the saved model\n",
    "loaded_model = xgb.Booster()\n",
    "loaded_model.load_model(\"./Models/xgb_model.json\")\n",
    "\n",
    "# Test predictions using the loaded model\n",
    "test_data = xgb.DMatrix(test_features)\n",
    "predictions = loaded_model.predict(test_data)\n",
    "\n",
    "# Print results\n",
    "mse = mean_squared_error(test_labels, predictions)\n",
    "rmse = root_mean_squared_error(test_labels, predictions)\n",
    "r2 = r2_score(test_labels, predictions)\n",
    "mae = mean_absolute_error(test_labels, predictions)\n",
    "\n",
    "print(f\"Mean Squared Error: {mse:.4f}\")\n",
    "print(f\"Root MSE: {rmse:.4f}\")\n",
    "print(f\"Mean Absolute Error: {mae:.4f}\")\n",
    "print(f\"R² Score: {r2:.4f}\")"
   ]
  }
 ],
 "metadata": {
  "colab": {
   "provenance": []
  },
  "kernelspec": {
   "display_name": "Python 3",
   "name": "python3"
  },
  "language_info": {
   "codemirror_mode": {
    "name": "ipython",
    "version": 3
   },
   "file_extension": ".py",
   "mimetype": "text/x-python",
   "name": "python",
   "nbconvert_exporter": "python",
   "pygments_lexer": "ipython3",
   "version": "3.12.1"
  }
 },
 "nbformat": 4,
 "nbformat_minor": 0
}
