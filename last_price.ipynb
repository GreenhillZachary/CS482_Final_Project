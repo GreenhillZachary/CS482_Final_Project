{
  "cells": [
    {
      "cell_type": "code",
      "execution_count": 1,
      "metadata": {
        "id": "0L_iZxR4JEqb"
      },
      "outputs": [],
      "source": [
        "# Cisco Dacanay\n",
        "# Zach Greenhill\n",
        "\n",
        "import torch\n",
        "import torch.nn as nn\n",
        "import torch.optim as optim\n",
        "from torch.utils.data import DataLoader, TensorDataset, random_split\n",
        "from sklearn.model_selection import train_test_split\n",
        "import kagglehub\n",
        "import os\n",
        "import pandas as pd\n",
        "import numpy as np\n",
        "from datetime import timedelta\n",
        "import math\n",
        "import matplotlib.pyplot as plt\n",
        "from sklearn.metrics import mean_squared_error, root_mean_squared_error, r2_score, mean_absolute_error, mean_absolute_percentage_error"
      ]
    },
    {
      "cell_type": "code",
      "execution_count": 2,
      "metadata": {
        "id": "XyrHGjxzkM6l"
      },
      "outputs": [],
      "source": [
        "# Function to seperate\n",
        "def separate_dataset(dataset):\n",
        "    # Initialize lists to hold data and labels\n",
        "    data_list = []\n",
        "    label_list = []\n",
        "\n",
        "    # Iterate through each tuple in the dataset\n",
        "    for data_tensor, label_tensor in dataset:\n",
        "        # Convert tensors to NumPy arrays and append to the respective lists\n",
        "        data_list.append(data_tensor.cpu().numpy())  # Move to CPU if needed\n",
        "        label_list.append(label_tensor.cpu().numpy())\n",
        "\n",
        "    # Convert lists to NumPy arrays\n",
        "    data_array = np.array(data_list)\n",
        "    label_array = np.array(label_list)\n",
        "\n",
        "    return data_array, label_array"
      ]
    },
    {
      "cell_type": "code",
      "execution_count": 3,
      "metadata": {
        "colab": {
          "base_uri": "https://localhost:8080/"
        },
        "id": "Ph74tE0xkM6m",
        "outputId": "6e79b8e7-1a79-49e8-808a-725b53914454"
      },
      "outputs": [
        {
          "output_type": "stream",
          "name": "stderr",
          "text": [
            "<ipython-input-3-ad2a69e8966c>:1: FutureWarning: You are using `torch.load` with `weights_only=False` (the current default value), which uses the default pickle module implicitly. It is possible to construct malicious pickle data which will execute arbitrary code during unpickling (See https://github.com/pytorch/pytorch/blob/main/SECURITY.md#untrusted-models for more details). In a future release, the default value for `weights_only` will be flipped to `True`. This limits the functions that could be executed during unpickling. Arbitrary objects will no longer be allowed to be loaded via this mode unless they are explicitly allowlisted by the user via `torch.serialization.add_safe_globals`. We recommend you start setting `weights_only=True` for any use case where you don't have full control of the loaded file. Please open an issue on GitHub for any issues related to this experimental feature.\n",
            "  test_set = torch.load(\"./Datasets/test_set.pt\")\n"
          ]
        }
      ],
      "source": [
        "test_set = torch.load(\"./Datasets/test_set.pt\")"
      ]
    },
    {
      "cell_type": "code",
      "execution_count": 4,
      "metadata": {
        "id": "WZ_FvRYdkM6m"
      },
      "outputs": [],
      "source": [
        "# Extract data\n",
        "test_features, test_labels = separate_dataset(test_set)\n"
      ]
    },
    {
      "cell_type": "code",
      "execution_count": 7,
      "metadata": {
        "colab": {
          "base_uri": "https://localhost:8080/"
        },
        "id": "SLduaZeEkM6m",
        "outputId": "323d00a0-3c77-4ee9-ba42-6d8b3b41457f"
      },
      "outputs": [
        {
          "output_type": "stream",
          "name": "stdout",
          "text": [
            "Mean Squared Error: 32.9205\n",
            "Root MSE: 5.7376\n",
            "Mean Absolute Error: 3.4111\n",
            "R2 Score: 0.9867\n",
            "Mean Absolute Percentage Error: 0.0507\n"
          ]
        }
      ],
      "source": [
        "# Predict the final price to be the same as the last input price (1 month before)\n",
        "predictions = []\n",
        "for row in test_features:\n",
        "  unnormalized_price = row[49] * 89.819 + 80.245  # convert normalized prices back into actual price\n",
        "  predictions.append(unnormalized_price)\n",
        "\n",
        "mse = mean_squared_error(test_labels, predictions)\n",
        "rmse = root_mean_squared_error(test_labels, predictions)\n",
        "mae = mean_absolute_error(test_labels, predictions)\n",
        "r2 = r2_score(test_labels, predictions)\n",
        "mape = mean_absolute_percentage_error(test_labels, predictions)\n",
        "\n",
        "print(f\"Mean Squared Error: {mse:.4f}\")\n",
        "print(f\"Root MSE: {rmse:.4f}\")\n",
        "print(f\"Mean Absolute Error: {mae:.4f}\")\n",
        "print(f\"R2 Score: {r2:.4f}\")\n",
        "print(f\"Mean Absolute Percentage Error: {mape:.4f}\")"
      ]
    }
  ],
  "metadata": {
    "colab": {
      "provenance": []
    },
    "kernelspec": {
      "display_name": "Python 3",
      "name": "python3"
    },
    "language_info": {
      "codemirror_mode": {
        "name": "ipython",
        "version": 3
      },
      "file_extension": ".py",
      "mimetype": "text/x-python",
      "name": "python",
      "nbconvert_exporter": "python",
      "pygments_lexer": "ipython3",
      "version": "3.12.1"
    }
  },
  "nbformat": 4,
  "nbformat_minor": 0
}